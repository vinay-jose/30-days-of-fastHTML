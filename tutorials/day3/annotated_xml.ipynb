{
 "cells": [
  {
   "cell_type": "code",
   "execution_count": null,
   "id": "8a46bf54",
   "metadata": {},
   "outputs": [],
   "source": [
    "#| default_exp xml"
   ]
  },
  {
   "cell_type": "markdown",
   "id": "3e03bb3d",
   "metadata": {},
   "source": [
    "# XML\n",
    "\n",
    "> Concise generation of XML."
   ]
  },
  {
   "cell_type": "code",
   "execution_count": null,
   "id": "f6c9a7f5",
   "metadata": {},
   "outputs": [],
   "source": [
    "#| export\n",
    "from fastcore.utils import *\n",
    "\n",
    "import types,json\n",
    "\n",
    "from dataclasses import dataclass, asdict\n",
    "from typing import Mapping\n",
    "from functools import partial\n",
    "from html import escape"
   ]
  },
  {
   "cell_type": "code",
   "execution_count": null,
   "id": "42d18e5c",
   "metadata": {},
   "outputs": [],
   "source": [
    "from IPython.display import Markdown\n",
    "from pprint import pprint\n",
    "\n",
    "from fastcore.test import test_eq"
   ]
  },
  {
   "cell_type": "markdown",
   "id": "a7448678",
   "metadata": {},
   "source": [
    "## FT functions"
   ]
  },
  {
   "cell_type": "code",
   "execution_count": null,
   "id": "e1b62c2c",
   "metadata": {},
   "outputs": [],
   "source": [
    "#|export\n",
    "def _fix_k(k): return k if k=='_' else k.lstrip('_').replace('_', '-')"
   ]
  },
  {
   "cell_type": "markdown",
   "id": "25d59e10",
   "metadata": {},
   "source": [
    "The `_fix_k()` function takes one parameter `k`, which is expected to be a string representing an attribute key.\n",
    "\n",
    "**Explanation**\n",
    "`return k if k=='_' else k.lstrip('_').replace('_', '-')` \n",
    "   - If `k` equals exactly `'_'`, it returns `k` unchanged\n",
    "   - Otherwise, it performs two operations on `k`:\n",
    "     - First, `k.lstrip('_')` removes any leading underscores from the string\n",
    "     - Then, `.replace('_', '-')` replaces any remaining underscores with hyphens\n",
    "\n",
    ">This function is used to transform attribute names from Python-friendly formats to HTML/XML-friendly formats. \n",
    "\n",
    "For example:\n",
    "- `_fix_k('_class')` would return `'class'` (removes leading underscore)\n",
    "- `_fix_k('data_value')` would return `'data-value'` (replaces inner underscore with hyphen)\n",
    "- `_fix_k('_my_attr')` would return `'my-attr'` (removes leading underscore and replaces remaining ones)\n",
    "- `_fix_k('_')` would return `'_'` (special case, preserved as-is)\n",
    "\n",
    "**Special Case(`_`)**\n",
    "\n",
    "The special case where `k == '_'` returns `'_'` unchanged is interesting and serves a specific purpose.\n",
    "\n",
    "In HTML/XML, there are some attributes that might need to be represented with an underscore. While most attributes follow standard naming conventions, there might be custom attributes or specific use cases where an underscore is needed as the actual attribute name.\n",
    "\n",
    "This special case allows users of the library to explicitly specify an underscore attribute by using `'_'` directly. Without this exception, the function would strip the underscore and return an empty string, which wouldn't be a valid attribute name.\n",
    "\n",
    ">For example, if someone needed to create a custom XML element with an attribute literally named `_`, they could do so with this library without the function interfering with that intent.\n",
    "\n",
    "It's a relatively rare edge case, but it ensures the library can handle all valid XML attribute scenarios, including those that might use underscores as part of a custom namespace or non-standard attribute naming convention."
   ]
  },
  {
   "cell_type": "code",
   "execution_count": null,
   "id": "159d3560",
   "metadata": {},
   "outputs": [],
   "source": [
    "#| export\n",
    "_specials = set('@.-!~:[](){}$%^&*+=|/?<>,`')"
   ]
  },
  {
   "cell_type": "markdown",
   "id": "6dbdda6d",
   "metadata": {},
   "source": [
    "`_specials` is defined as a global variable that contains a set of special characters.\n",
    "\n",
    "This set is used in the `attrmap()` function (see next cell) to determine whether an attribute name contains the special characters mentioned.\n",
    "\n",
    "This is important because HTML5 and XML allow custom data attributes (like `data-*` attributes) and other attributes that might contain these special characters, which should be preserved exactly as provided by the user."
   ]
  },
  {
   "cell_type": "code",
   "execution_count": null,
   "id": "59f187db",
   "metadata": {},
   "outputs": [],
   "source": [
    "#| export\n",
    "def attrmap(o):\n",
    "    if _specials & set(o): return o\n",
    "    o = dict(htmlClass='class', cls='class', _class='class', klass='class',\n",
    "             _for='for', fr='for', htmlFor='for').get(o, o)\n",
    "    return _fix_k(o)"
   ]
  },
  {
   "cell_type": "markdown",
   "id": "2de4146c",
   "metadata": {},
   "source": [
    "`attrmap` function takes one parameter `o` (which is expected to be a string representing an attribute name).\n",
    "\n",
    "1. `if _specials & set(o): return o`\n",
    "   - Converts the input string `o` to a set of characters using `set(o)`\n",
    "   - Uses the `&` operator to find the intersection with the `_specials` set\n",
    "   - If there's any overlap (meaning `o` contains any special characters), it returns `o` unchanged\n",
    "   - This preserves attribute names that contain special characters\n",
    "\n",
    "2. `o = dict(htmlClass='class', cls='class', _class='class', klass='class', _for='for', fr='for', htmlFor='for').get(o, o)`\n",
    "   - Creates a dictionary mapping various alternative names to standard HTML attribute names\n",
    "   - Uses `.get(o, o)` to look up the input `o` in this dictionary\n",
    "   - If `o` is found in the dictionary, returns the corresponding value\n",
    "   - If `o` is not found, returns `o` itself (the second argument to `.get()`)\n",
    "   - This handles common Python workarounds for reserved keywords like `class` and `for`\n",
    "\n",
    "3. `return _fix_k(o)`\n",
    "   - Passes the result to the `_fix_k()` function above\n",
    "   - This will strip leading underscores and replace remaining underscores with hyphens\n",
    "   - Returns the fully transformed attribute name\n",
    "\n",
    "The function serves two main purposes:\n",
    "1. It preserves attribute names with special characters\n",
    "2. It handles common alternative names for HTML attributes that conflict with Python keywords\n",
    "\n",
    "For example:\n",
    "- `attrmap('data-value')` returns `'data-value'` (contains `-`, a special character)\n",
    "- `attrmap('cls')` returns `'class'` (maps Python-friendly alternative to HTML standard)\n",
    "- `attrmap('_style')` returns `'style'` (removes leading underscore via `_fix_k`)\n",
    "- `attrmap('background_color')` returns `'background-color'` (replaces `_` with `-` via `_fix_k`)\n",
    "\n",
    "This function is crucial for the module's usability, as it allows developers to use Python-friendly attribute names that get properly converted to standard HTML/XML attributes or custom attributes with special characters."
   ]
  },
  {
   "cell_type": "markdown",
   "id": "fc8a2835",
   "metadata": {},
   "source": [
    "> Possible python substitutes for attributes `class` and `for` (since these are reserved keywords in python):\n",
    ">   1. `class` : cls, _class, htmlClass, klass\n",
    ">   2. `for`: fr, _for, htmlFor"
   ]
  },
  {
   "cell_type": "code",
   "execution_count": null,
   "id": "6f000a63",
   "metadata": {},
   "outputs": [],
   "source": [
    "#| export\n",
    "def valmap(o):\n",
    "    if is_listy(o): return ' '.join(map(str,o)) if o else None\n",
    "    if isinstance(o, dict): return '; '.join(f\"{k}:{v}\" for k,v in o.items()) if o else None\n",
    "    return o"
   ]
  },
  {
   "cell_type": "markdown",
   "id": "c5d65377",
   "metadata": {},
   "source": [
    "The function `valmap` takes one parameter `o` (representing an attribute value that needs to be converted to an appropriate string format for HTML/XML).\n",
    "\n",
    "1. `if is_listy(o): return ' '.join(map(str,o)) if o else None` - This line:\n",
    "   - Checks if `o` is a list-like object using the `is_listy()` function (which is imported from fastcore.utils)\n",
    "   - If `o` is list-like and not empty (`if o`), it:\n",
    "     - Converts each item in the list to a string using `map(str, o)`\n",
    "     - Joins those strings with spaces using `' '.join()`\n",
    "     - For example, `valmap(['btn', 'primary'])` would return `'btn primary'` (useful for CSS classes)\n",
    "   - If `o` is list-like but empty, it returns `None`\n",
    "\n",
    "2. `if isinstance(o, dict): return '; '.join(f\"{k}:{v}\" for k,v in o.items()) if o else None` - This line:\n",
    "   - Checks if `o` is a dictionary using `isinstance(o, dict)`\n",
    "   - If `o` is a dictionary and not empty, it:\n",
    "     - Creates a string for each key-value pair in the format `\"key:value\"`\n",
    "     - Joins these strings with semicolons using `'; '.join()`\n",
    "     - For example, `valmap({'margin': '10px', 'padding': '5px'})` would return `'margin:10px; padding:5px'` (useful for inline CSS)\n",
    "   - If `o` is an empty dictionary, it returns `None`\n",
    "\n",
    "3. `return o` - If `o` is neither list-like nor a dictionary, it returns `o` unchanged.\n",
    "\n",
    "The function's purpose is to convert complex Python data structures (lists and dictionaries) into string formats that are appropriate for HTML/XML attributes:\n",
    "- Lists become space-separated values (ideal for CSS classes)\n",
    "- Dictionaries become semicolon-separated key-value pairs (ideal for inline styles)\n",
    "- Other values pass through unchanged\n",
    "\n",
    "This function is particularly useful for:\n",
    "- CSS classes: `valmap(['btn', 'primary'])` → `'btn primary'`\n",
    "- Inline styles: `valmap({'color': 'red', 'font-size': '12px'})` → `'color:red; font-size:12px'`\n",
    "- Empty collections: Both empty lists and empty dictionaries become `None`, which will cause the attribute to be omitted\n",
    "\n",
    "This makes the module more intuitive to use, as developers can pass Python data structures directly as attribute values."
   ]
  },
  {
   "cell_type": "code",
   "execution_count": null,
   "id": "ddc7d705",
   "metadata": {},
   "outputs": [],
   "source": [
    "#| export\n",
    "def _flatten_tuple(tup):\n",
    "    if not any(isinstance(item, tuple) for item in tup): return tup\n",
    "    result = []\n",
    "    for item in tup:\n",
    "        if isinstance(item, tuple): result.extend(item)\n",
    "        else: result.append(item)\n",
    "    return tuple(result)"
   ]
  },
  {
   "cell_type": "markdown",
   "id": "90f074b1",
   "metadata": {},
   "source": [
    "1. `def _flatten_tuple(tup):` - Defines a function named `_flatten_tuple` that takes one parameter `tup` (which is expected to be a tuple, potentially containing nested tuples).\n",
    "\n",
    "2. `if not any(isinstance(item, tuple) for item in tup): return tup` - This line:\n",
    "   - Uses a generator expression to check if any item in `tup` is itself a tuple\n",
    "   - If none of the items are tuples (meaning there's no nesting), it returns `tup` unchanged\n",
    "   - This is an optimization that avoids unnecessary processing for already-flat tuples\n",
    "\n",
    "3. `result = []` - Initializes an empty list to collect the flattened items.\n",
    "\n",
    "4. `for item in tup:` - Iterates through each item in the input tuple.\n",
    "\n",
    "5. `if isinstance(item, tuple): result.extend(item)` - If the current item is a tuple:\n",
    "   - Uses `result.extend(item)` to add all elements from that tuple to the result list\n",
    "   - This effectively \"unpacks\" the nested tuple into the result\n",
    "\n",
    "6. `else: result.append(item)` - If the current item is not a tuple:\n",
    "   - Adds it directly to the result list with `result.append(item)`\n",
    "\n",
    "7. `return tuple(result)` - Converts the final result list back to a tuple and returns it.\n",
    "\n",
    "The function's purpose is to flatten one level of nesting in a tuple. For example:\n",
    "- `_flatten_tuple((1, 2, 3))` returns `(1, 2, 3)` (already flat, no change)\n",
    "- `_flatten_tuple((1, (2, 3), 4))` returns `(1, 2, 3, 4)` (flattens the nested tuple)\n",
    "- `_flatten_tuple((1, (2, (3, 4)), 5))` returns `(1, 2, (3, 4), 5)` (only flattens one level)\n",
    "\n",
    "This function is important in the library because it allows users to provide nested structures as arguments, which get flattened appropriately. This makes the API more flexible and intuitive, as users can group related elements together in nested tuples if they wish."
   ]
  },
  {
   "cell_type": "code",
   "execution_count": null,
   "id": "df5d12c7",
   "metadata": {},
   "outputs": [],
   "source": [
    "#|export\n",
    "def _preproc(c, kw, attrmap=attrmap, valmap=valmap):\n",
    "    if len(c)==1 and isinstance(c[0], (types.GeneratorType, map, filter)): c = tuple(c[0])\n",
    "    attrs = {attrmap(k.lower()):valmap(v) for k,v in kw.items() if v is not None}\n",
    "    return _flatten_tuple(c),attrs"
   ]
  },
  {
   "cell_type": "markdown",
   "id": "e8dfb0c9",
   "metadata": {},
   "source": [
    "1. `def _preproc(c, kw, attrmap=attrmap, valmap=valmap):` - Defines a function named `_preproc` that takes four parameters:\n",
    "   - `c`: A tuple of children elements\n",
    "   - `kw`: A dictionary of keyword arguments (attributes)\n",
    "   - `attrmap`: A function to map attribute names (defaults to the `attrmap` function we saw earlier)\n",
    "   - `valmap`: A function to map attribute values (defaults to the `valmap` function we saw earlier)\n",
    "\n",
    "2. `if len(c)==1 and isinstance(c[0], (types.GeneratorType, map, filter)): c = tuple(c[0])` - This line:\n",
    "   - Checks if `c` contains exactly one item and that item is a generator, map, or filter object\n",
    "   - If so, it converts that generator/map/filter to a tuple using `tuple(c[0])`\n",
    "   - This allows users to pass generators as children, which get automatically expanded\n",
    "   - For example: `Div(x for x in range(3))` would be expanded to `Div(0, 1, 2)`\n",
    "\n",
    "3. `attrs = {attrmap(k.lower()):valmap(v) for k,v in kw.items() if v is not None}` - This line:\n",
    "   - Creates a dictionary comprehension that processes each key-value pair in `kw`\n",
    "   - Filters out pairs where the value is `None` with `if v is not None`\n",
    "   - For each remaining pair:\n",
    "     - Converts the key to lowercase with `k.lower()`\n",
    "     - Applies the `attrmap` function to the key\n",
    "     - Applies the `valmap` function to the value\n",
    "   - The result is a processed dictionary of attributes\n",
    "\n",
    "4. `return _flatten_tuple(c),attrs` - Finally, it:\n",
    "   - Applies the `_flatten_tuple` function to the children tuple `c`\n",
    "   - Returns a tuple containing the flattened children and the processed attributes\n",
    "\n",
    "The function's purpose is to preprocess both the children elements and attributes before they're used to create an XML/HTML element:\n",
    "\n",
    "1. It handles generator expressions by expanding them into tuples\n",
    "2. It flattens nested tuples of children\n",
    "3. It transforms attribute names using `attrmap`\n",
    "4. It transforms attribute values using `valmap`\n",
    "5. It filters out attributes with `None` values\n",
    "\n",
    "This preprocessing makes the library more flexible and user-friendly by:\n",
    "- Supporting generators as a concise way to create multiple children\n",
    "- Allowing nested structures that get automatically flattened\n",
    "- Converting Python-friendly attribute names to HTML-compatible ones\n",
    "- Converting Python data structures (lists, dicts) to appropriate string formats for attributes\n",
    "- Automatically removing attributes with `None` values (a common pattern for conditional attributes)\n",
    "\n",
    "The function is a key part of the library's preprocessing pipeline that makes the API both powerful and intuitive to use."
   ]
  },
  {
   "cell_type": "code",
   "execution_count": null,
   "id": "b06c10f6",
   "metadata": {},
   "outputs": [],
   "source": [
    "#|export\n",
    "class FT:\n",
    "    \"A 'Fast Tag' structure, containing `tag`,`children`,and `attrs`\"\n",
    "    def __init__(self, tag:str, cs:tuple, attrs:dict=None, void_=False, **kwargs):\n",
    "        assert isinstance(cs, tuple)\n",
    "        self.tag,self.children,self.attrs,self.void_ = tag,cs,attrs,void_\n",
    "        self.listeners_ = []\n",
    "    \n",
    "    def on(self, f): self.listeners_.append(f)\n",
    "    def changed(self):\n",
    "        [f(self) for f in self.listeners_]\n",
    "        return self\n",
    "\n",
    "    def __setattr__(self, k, v):\n",
    "        if len(k)>1 and k.startswith('__') or k[-1]=='_' or k in ('tag','children','attrs','void_'): return super().__setattr__(k,v)\n",
    "        self.attrs[_fix_k(k)] = v\n",
    "        self.changed()\n",
    "\n",
    "    def __getattr__(self, k):\n",
    "        if k.startswith('__'): raise AttributeError(k)\n",
    "        return self.get(k)\n",
    "\n",
    "    @property\n",
    "    def list(self): return [self.tag,self.children,self.attrs]\n",
    "    def get(self, k, default=None): return self.attrs.get(_fix_k(k), default)\n",
    "    \n",
    "    def __repr__(self): return f'{self.tag}({self.children},{self.attrs})'\n",
    "    def __iter__(self): return iter(self.children)\n",
    "    def __getitem__(self, idx): return self.children[idx]\n",
    "    \n",
    "    def __setitem__(self, i, o):\n",
    "        self.children = self.children[:i] + (o,) + self.children[i+1:]\n",
    "        self.changed()\n",
    "\n",
    "    def __call__(self, *c, **kw):\n",
    "        c,kw = _preproc(c,kw)\n",
    "        if c: self.children = self.children+c\n",
    "        if kw: self.attrs = {**self.attrs, **kw}\n",
    "        return self.changed()\n",
    "\n",
    "    def set(self, *c, **kw):\n",
    "        \"Set children and/or attributes (chainable)\"\n",
    "        c,kw = _preproc(c,kw)\n",
    "        if c: self.children = c\n",
    "        if kw:\n",
    "            self.attrs = {k:v for k,v in self.attrs.items() if k in ('id','name')}\n",
    "            self.attrs = {**self.attrs, **kw}\n",
    "        return self.changed()"
   ]
  },
  {
   "cell_type": "markdown",
   "id": "055c7237",
   "metadata": {},
   "source": [
    "### 1. `__init__` Method\n",
    "\n",
    "```python\n",
    "def __init__(self, tag:str, cs:tuple, attrs:dict=None, void_=False, **kwargs):\n",
    "    assert isinstance(cs, tuple)\n",
    "    self.tag,self.children,self.attrs,self.void_ = tag,cs,attrs,void_\n",
    "    self.listeners_ = []\n",
    "```\n",
    "\n",
    "**Explanation:**\n",
    "- This initializes a new FT (Fast Tag) object\n",
    "- Parameters:\n",
    "  - `tag`: String representing the HTML/XML tag name\n",
    "  - `cs`: Tuple of children elements\n",
    "  - `attrs`: Dictionary of attributes (defaults to None)\n",
    "  - `void_`: Boolean indicating if this is a void element (elements that don't need closing tags like `<img>`)\n",
    "- The method asserts that `cs` must be a tuple to ensure type safety\n",
    "- It then assigns the parameters to instance attributes\n",
    "- Finally, it initializes an empty list of listeners (callbacks for change notifications)\n",
    "\n",
    "**Example:**\n",
    "```python\n",
    "# Creating a div with \"Hello\" as child and class=\"container\" as attribute\n",
    "div = FT(\"div\", (\"Hello\",), {\"class\": \"container\"})\n",
    "```\n",
    "\n",
    "### 2. `tag` Attribute\n",
    "\n",
    "This is an instance attribute set in `__init__`. It stores the HTML/XML tag name as a string.\n",
    "\n",
    "**Example:**\n",
    "```python\n",
    "div = FT(\"div\", (), {})\n",
    "print(div.tag)  # Outputs: \"div\"\n",
    "```\n",
    "\n",
    "### 3. `children` Attribute\n",
    "\n",
    "This is an instance attribute set in `__init__`. It stores the child elements as a tuple.\n",
    "\n",
    "**Example:**\n",
    "```python\n",
    "div = FT(\"div\", (\"Hello\", \"World\"), {})\n",
    "print(div.children)  # Outputs: ('Hello', 'World')\n",
    "```\n",
    "\n",
    "### 4. `attrs` Attribute\n",
    "\n",
    "This is an instance attribute set in `__init__`. It stores the HTML/XML attributes as a dictionary.\n",
    "\n",
    "**Example:**\n",
    "```python\n",
    "div = FT(\"div\", (), {\"class\": \"container\", \"id\": \"main\"})\n",
    "print(div.attrs)  # Outputs: {'class': 'container', 'id': 'main'}\n",
    "```\n",
    "\n",
    "### 5. `void_` Attribute\n",
    "\n",
    "This is an instance attribute set in `__init__`. It's a boolean indicating if the element is a void element (doesn't need a closing tag).\n",
    "\n",
    "**Example:**\n",
    "```python\n",
    "img = FT(\"img\", (), {\"src\": \"image.jpg\"}, void_=True)\n",
    "print(img.void_)  # Outputs: True\n",
    "```\n",
    "\n",
    "### 6. `listeners_` Attribute\n",
    "\n",
    "This is an instance attribute initialized in `__init__` as an empty list. It stores callback functions to be called when the element changes.\n",
    "\n",
    "**Example:**\n",
    "```python\n",
    "div = FT(\"div\", (), {})\n",
    "print(div.listeners_)  # Outputs: []\n",
    "```\n",
    "\n",
    "### 7. `on` Method\n",
    "\n",
    "```python\n",
    "def on(self, f): self.listeners_.append(f)\n",
    "```\n",
    "\n",
    "**Explanation:**\n",
    "- This method adds a callback function to the listeners list\n",
    "- Parameter `f`: The callback function to add\n",
    "- The function will be called whenever the element changes\n",
    "- Used for implementing reactive behavior\n",
    "\n",
    "**Example:**\n",
    "```python\n",
    "div = FT(\"div\", (), {})\n",
    "def notify_change(element):\n",
    "    print(f\"Element {element.tag} changed\")\n",
    "div.on(notify_change)\n",
    "```\n",
    "\n",
    "### 8. `changed` Method\n",
    "\n",
    "```python\n",
    "def changed(self):\n",
    "    [f(self) for f in self.listeners_]\n",
    "    return self\n",
    "```\n",
    "\n",
    "**Explanation:**\n",
    "- This method calls all registered listener callbacks with the element as argument\n",
    "- It uses a list comprehension to iterate through all listeners and call each one\n",
    "- Returns `self` to allow method chaining\n",
    "- Called internally whenever the element is modified\n",
    "\n",
    "**Example:**\n",
    "```python\n",
    "div = FT(\"div\", (), {})\n",
    "div.on(lambda el: print(f\"{el.tag} changed\"))\n",
    "div.changed()  # Outputs: \"div changed\"\n",
    "```\n",
    "\n",
    "### 9. `__setattr__` Method\n",
    "\n",
    "```python\n",
    "def __setattr__(self, k, v):\n",
    "    if len(k)>1 and k.startswith('__') or k[-1]=='_' or k in ('tag','children','attrs','void_'): \n",
    "        return super().__setattr__(k,v)\n",
    "    self.attrs[_fix_k(k)] = v\n",
    "    self.changed()\n",
    "```\n",
    "\n",
    "**Explanation:**\n",
    "- Custom attribute setter that handles special cases for attributes\n",
    "- If the attribute name:\n",
    "  - Starts with double underscore (`__`) and is longer than 1 character\n",
    "  - Ends with underscore (`_`)\n",
    "  - Is one of the core attributes ('tag', 'children', 'attrs', 'void_')\n",
    "- Then it behaves like a normal attribute setter\n",
    "- Otherwise, it treats the attribute as an HTML attribute and adds it to `self.attrs`\n",
    "- It uses `_fix_k()` to transform the attribute name\n",
    "- Calls `self.changed()` to notify listeners of the change\n",
    "\n",
    "**Example:**\n",
    "```python\n",
    "div = FT(\"div\", (), {})\n",
    "div.class_ = \"container\"  # Normal Python attribute (ends with _)\n",
    "div.id = \"main\"          # Treated as HTML attribute\n",
    "print(div.attrs)         # Outputs: {'id': 'main'}\n",
    "```\n",
    "\n",
    "### 10. `__getattr__` Method\n",
    "\n",
    "```python\n",
    "def __getattr__(self, k):\n",
    "    if k.startswith('__'): raise AttributeError(k)\n",
    "    return self.get(k)\n",
    "```\n",
    "\n",
    "**Explanation:**\n",
    "- Custom attribute getter for HTML attributes\n",
    "- If the attribute name starts with double underscore (`__`), it raises an AttributeError\n",
    "- Otherwise, it calls `self.get(k)` to retrieve the attribute from `self.attrs`\n",
    "- This allows accessing HTML attributes directly as Python attributes\n",
    "\n",
    "**Example:**\n",
    "```python\n",
    "div = FT(\"div\", (), {\"class\": \"container\"})\n",
    "print(div.class_)  # This would call __getattr__ and return \"container\"\n",
    "```\n",
    "\n",
    "I'll continue with detailed explanations for the remaining methods in the FT class:\n",
    "\n",
    "### 11. `list` Property\n",
    "\n",
    "```python\n",
    "@property\n",
    "def list(self): return [self.tag, self.children, self.attrs]\n",
    "```\n",
    "\n",
    "**Explanation:**\n",
    "- This is a property that returns a list representation of the element\n",
    "- Returns a list containing three items: the tag name, the children tuple, and the attributes dictionary\n",
    "- This provides a convenient way to access the core components of the element in a list format\n",
    "- Used internally by some functions that need these components separately\n",
    "\n",
    "**Example:**\n",
    "```python\n",
    "div = FT(\"div\", (\"Hello\",), {\"class\": \"container\"})\n",
    "tag, children, attrs = div.list\n",
    "print(tag)       # Outputs: \"div\"\n",
    "print(children)  # Outputs: ('Hello',)\n",
    "print(attrs)     # Outputs: {'class': 'container'}\n",
    "```\n",
    "\n",
    "### 12. `get` Method\n",
    "\n",
    "```python\n",
    "def get(self, k, default=None): return self.attrs.get(_fix_k(k), default)\n",
    "```\n",
    "\n",
    "**Explanation:**\n",
    "- Retrieves an attribute value from the `attrs` dictionary\n",
    "- Parameters:\n",
    "  - `k`: The attribute name to retrieve\n",
    "  - `default`: The value to return if the attribute doesn't exist (defaults to None)\n",
    "- Uses `_fix_k()` to transform the attribute name before lookup\n",
    "- Provides a safe way to access attributes with a fallback default value\n",
    "\n",
    "**Example:**\n",
    "```python\n",
    "div = FT(\"div\", (), {\"class\": \"container\"})\n",
    "print(div.get(\"class\"))          # Outputs: \"container\"\n",
    "print(div.get(\"id\", \"default\"))  # Outputs: \"default\" (as \"id\" doesn't exist)\n",
    "```\n",
    "\n",
    "### 13. `__repr__` Method\n",
    "\n",
    "```python\n",
    "def __repr__(self): return f'{self.tag}({self.children},{self.attrs})'\n",
    "```\n",
    "\n",
    "**Explanation:**\n",
    "- Provides a string representation of the FT object\n",
    "- Returns a string in the format: `tag(children,attrs)`\n",
    "- Used when printing the object or when displaying it in interactive environments\n",
    "- Helpful for debugging and inspecting FT objects\n",
    "\n",
    "**Example:**\n",
    "```python\n",
    "div = FT(\"div\", (\"Hello\",), {\"class\": \"container\"})\n",
    "print(div)  # Outputs something like: div(('Hello',),{'class': 'container'})\n",
    "```\n",
    "\n",
    "### 14. `__iter__` Method\n",
    "\n",
    "```python\n",
    "def __iter__(self): return iter(self.children)\n",
    "```\n",
    "\n",
    "**Explanation:**\n",
    "- Makes the FT object iterable by returning an iterator over its children\n",
    "- Allows using FT objects in for loops to iterate through their children\n",
    "- Enables unpacking of the children using the * operator\n",
    "\n",
    "**Example:**\n",
    "```python\n",
    "div = FT(\"div\", (\"Hello\", \"World\"), {})\n",
    "for child in div:\n",
    "    print(child)  # Outputs: \"Hello\" then \"World\"\n",
    "```\n",
    "\n",
    "### 15. `__getitem__` Method\n",
    "\n",
    "```python\n",
    "def __getitem__(self, idx): return self.children[idx]\n",
    "```\n",
    "\n",
    "**Explanation:**\n",
    "- Allows accessing children by index using square bracket notation\n",
    "- Simply delegates to the indexing of the `children` tuple\n",
    "- Makes FT objects behave like sequences for child access\n",
    "\n",
    "**Example:**\n",
    "```python\n",
    "div = FT(\"div\", (\"Hello\", \"World\"), {})\n",
    "print(div[0])  # Outputs: \"Hello\"\n",
    "print(div[1])  # Outputs: \"World\"\n",
    "```\n",
    "\n",
    "### 16. `__setitem__` Method\n",
    "\n",
    "```python\n",
    "def __setitem__(self, i, o):\n",
    "    self.children = self.children[:i] + (o,) + self.children[i+1:]\n",
    "    self.changed()\n",
    "```\n",
    "\n",
    "**Explanation:**\n",
    "- Allows setting a child at a specific index using square bracket notation\n",
    "- Creates a new tuple by concatenating:\n",
    "  - The slice of children before index `i`\n",
    "  - A tuple containing just the new child `o`\n",
    "  - The slice of children after index `i`\n",
    "- Calls `self.changed()` to notify listeners of the change\n",
    "- Note that this creates a new tuple since tuples are immutable\n",
    "\n",
    "**Example:**\n",
    "```python\n",
    "div = FT(\"div\", (\"Hello\", \"World\"), {})\n",
    "div[1] = \"Python\"\n",
    "print(div.children)  # Outputs: ('Hello', 'Python')\n",
    "```\n",
    "\n",
    "### 17. `__call__` Method\n",
    "\n",
    "```python\n",
    "def __call__(self, *c, **kw):\n",
    "    c,kw = _preproc(c,kw)\n",
    "    if c: self.children = self.children+c\n",
    "    if kw: self.attrs = {**self.attrs, **kw}\n",
    "    return self.changed()\n",
    "```\n",
    "\n",
    "**Explanation:**\n",
    "- Makes the FT object callable, allowing to add children and attributes after creation\n",
    "- Processes the arguments using `_preproc`\n",
    "- If children `c` are provided, appends them to the existing children\n",
    "- If keyword arguments `kw` are provided, updates the attributes dictionary\n",
    "- Calls `self.changed()` to notify listeners and returns self for chaining\n",
    "- This enables a fluent API style where you can add to elements after creation\n",
    "\n",
    "**Example:**\n",
    "```python\n",
    "div = FT(\"div\", (), {\"class\": \"container\"})\n",
    "div(\"Hello\", id=\"main\")\n",
    "# Now div has child \"Hello\" and attributes class=\"container\" and id=\"main\"\n",
    "```\n",
    "\n",
    "### 18. `set` Method\n",
    "\n",
    "```python\n",
    "def set(self, *c, **kw):\n",
    "    \"Set children and/or attributes (chainable)\"\n",
    "    c,kw = _preproc(c,kw)\n",
    "    if c: self.children = c\n",
    "    if kw:\n",
    "        self.attrs = {k:v for k,v in self.attrs.items() if k in ('id','name')}\n",
    "        self.attrs = {**self.attrs, **kw}\n",
    "    return self.changed()\n",
    "```\n",
    "\n",
    "**Explanation:**\n",
    "- Similar to `__call__`, but replaces children and attributes instead of adding to them\n",
    "- Processes the arguments using `_preproc`\n",
    "- If children `c` are provided, replaces all existing children\n",
    "- If keyword arguments `kw` are provided:\n",
    "  - Preserves only 'id' and 'name' attributes from the existing attributes\n",
    "  - Updates with the new attributes\n",
    "- Calls `self.changed()` to notify listeners and returns self for chaining\n",
    "- Useful when you want to completely reset an element's content while preserving its identity\n",
    "\n",
    "**Example:**\n",
    "```python\n",
    "div = FT(\"div\", (\"Old content\",), {\"class\": \"old\", \"id\": \"main\"})\n",
    "div.set(\"New content\", class_=\"new\")\n",
    "# Now div has only child \"New content\" and attributes id=\"main\" and class=\"new\"\n",
    "```\n",
    "\n",
    "The methods of the FT class work together to create a flexible and powerful API for building and manipulating HTML/XML elements in Python. The combination of Python's special methods (`__getattr__`, `__setattr__`, `__call__`, etc.) with carefully designed helper functions creates an intuitive interface that feels natural to use."
   ]
  },
  {
   "cell_type": "code",
   "execution_count": null,
   "id": "06718948",
   "metadata": {},
   "outputs": [],
   "source": [
    "#| export\n",
    "def ft(tag:str, *c, void_:bool=False, attrmap:callable=attrmap, valmap:callable=valmap, ft_cls=FT, **kw):\n",
    "    \"Create an `FT` structure for `to_xml()`\"\n",
    "    return ft_cls(tag.lower(),*_preproc(c,kw,attrmap=attrmap, valmap=valmap), void_=void_)"
   ]
  },
  {
   "cell_type": "code",
   "execution_count": null,
   "id": "45489975",
   "metadata": {},
   "outputs": [],
   "source": [
    "#| export\n",
    "voids = set('area base br col command embed hr img input keygen link meta param source track wbr !doctype'.split())\n",
    "_g = globals()\n",
    "_all_ = ['Head', 'Title', 'Meta', 'Link', 'Style', 'Body', 'Pre', 'Code',\n",
    "    'Div', 'Span', 'P', 'H1', 'H2', 'H3', 'H4', 'H5', 'H6', 'Strong', 'Em', 'B',\n",
    "    'I', 'U', 'S', 'Strike', 'Sub', 'Sup', 'Hr', 'Br', 'Img', 'A', 'Link', 'Nav',\n",
    "    'Ul', 'Ol', 'Li', 'Dl', 'Dt', 'Dd', 'Table', 'Thead', 'Tbody', 'Tfoot', 'Tr',\n",
    "    'Th', 'Td', 'Caption', 'Col', 'Colgroup', 'Form', 'Input', 'Textarea',\n",
    "    'Button', 'Select', 'Option', 'Label', 'Fieldset', 'Legend', 'Details',\n",
    "    'Summary', 'Main', 'Header', 'Footer', 'Section', 'Article', 'Aside', 'Figure',\n",
    "    'Figcaption', 'Mark', 'Small', 'Iframe', 'Object', 'Embed', 'Param', 'Video',\n",
    "    'Audio', 'Source', 'Canvas', 'Svg', 'Math', 'Script', 'Noscript', 'Template', 'Slot']\n",
    "\n",
    "for o in _all_: _g[o] = partial(ft, o.lower(), void_=o.lower() in voids)"
   ]
  },
  {
   "cell_type": "markdown",
   "id": "f3c44df0",
   "metadata": {},
   "source": [
    "The variable `_g = globals()` is defined in the source code to get a reference to the global namespace dictionary. This is used later in the code to dynamically create HTML tag functions. Specifically, it's used in this part:\n",
    "\n",
    "```python\n",
    "for o in _all_: _g[o] = partial(ft, o.lower(), void_=o.lower() in voids)\n",
    "```\n",
    "\n",
    "This is a technique to programmatically add functions to the module's global namespace, allowing users to access HTML tag functions like `Div()`, `P()`, etc. directly."
   ]
  },
  {
   "cell_type": "markdown",
   "id": "732e44ab",
   "metadata": {},
   "source": [
    "The main HTML tags are exported as `ft` partials.\n",
    "\n",
    "Attributes are passed as keywords. Use 'klass' and 'fr' instead of 'class' and 'for', to avoid Python reserved word clashes."
   ]
  },
  {
   "cell_type": "code",
   "execution_count": null,
   "id": "39834fcb",
   "metadata": {},
   "outputs": [],
   "source": [
    "#| export\n",
    "def Html(*c, doctype=True, **kwargs)->FT:\n",
    "    \"An HTML tag, optionally preceeded by `!DOCTYPE HTML`\"\n",
    "    res = ft('html', *c, **kwargs)\n",
    "    if not doctype: return res\n",
    "    return (ft('!DOCTYPE', html=True, void_=True), res)"
   ]
  },
  {
   "cell_type": "code",
   "execution_count": null,
   "id": "9a8b4ddb",
   "metadata": {},
   "outputs": [
    {
     "name": "stdout",
     "output_type": "stream",
     "text": [
      "(!doctype((),{'html': True}),\n",
      " html((head((title(('Some page',),{}),),{}), body((div(('Some text\\nanother line', input((),{'name': \"jph's\"}), img((),{'src': 'filename', 'data': 1})),{'class': 'myclass another', 'style': 'padding:1; margin:2'}),),{})),{}))\n"
     ]
    }
   ],
   "source": [
    "samp = Html(\n",
    "    Head(Title('Some page')),\n",
    "    Body(Div('Some text\\nanother line', (Input(name=\"jph's\"), Img(src=\"filename\", data=1)),\n",
    "             cls=['myclass', 'another'],\n",
    "             style={'padding':1, 'margin':2}))\n",
    ")\n",
    "pprint(samp)"
   ]
  },
  {
   "cell_type": "code",
   "execution_count": null,
   "id": "5c6c57e9",
   "metadata": {},
   "outputs": [
    {
     "name": "stdout",
     "output_type": "stream",
     "text": [
      "p\n",
      "('Some text',)\n",
      "{'id': 'myid'}\n"
     ]
    }
   ],
   "source": [
    "elem = P('Some text', id=\"myid\")\n",
    "print(elem.tag)\n",
    "print(elem.children)\n",
    "print(elem.attrs)"
   ]
  },
  {
   "cell_type": "markdown",
   "id": "bb61f88e",
   "metadata": {},
   "source": [
    "You can get and set attrs directly:"
   ]
  },
  {
   "cell_type": "code",
   "execution_count": null,
   "id": "5c7f175d",
   "metadata": {},
   "outputs": [
    {
     "name": "stdout",
     "output_type": "stream",
     "text": [
      "newid newid missing\n"
     ]
    },
    {
     "data": {
      "text/plain": [
       "p(('Some text',),{'id': 'newid'})"
      ]
     },
     "execution_count": null,
     "metadata": {},
     "output_type": "execute_result"
    }
   ],
   "source": [
    "elem.id = 'newid'\n",
    "print(elem.id, elem.get('id'), elem.get('foo', 'missing'))\n",
    "elem"
   ]
  },
  {
   "cell_type": "code",
   "execution_count": null,
   "id": "116c886e",
   "metadata": {},
   "outputs": [],
   "source": [
    "#| export\n",
    "class Safe(str):\n",
    "    def __html__(self): return self"
   ]
  },
  {
   "cell_type": "markdown",
   "id": "99c9e1cc",
   "metadata": {},
   "source": [
    "## Conversion to XML/HTML"
   ]
  },
  {
   "cell_type": "code",
   "execution_count": null,
   "id": "254c8ff3",
   "metadata": {},
   "outputs": [],
   "source": [
    "#| export\n",
    "def _escape(s): return '' if s is None else s.__html__() if hasattr(s, '__html__') else escape(s) if isinstance(s, str) else s\n",
    "def _noescape(s): return '' if s is None else s.__html__() if hasattr(s, '__html__') else s"
   ]
  },
  {
   "cell_type": "code",
   "execution_count": null,
   "id": "0255b96f",
   "metadata": {},
   "outputs": [],
   "source": [
    "#| export\n",
    "def _to_attr(k,v):\n",
    "    if isinstance(v,bool):\n",
    "        if v==True : return str(k)\n",
    "        if v==False: return ''\n",
    "    if isinstance(v,str): v = escape(v, quote=False)\n",
    "    elif isinstance(v, Mapping): v = json.dumps(v)\n",
    "    else: v = str(v)\n",
    "    qt = '\"'\n",
    "    if qt in v:\n",
    "        qt = \"'\"\n",
    "        if \"'\" in v: v = v.replace(\"'\", \"&#39;\")\n",
    "    return f'{k}={qt}{v}{qt}'"
   ]
  },
  {
   "cell_type": "code",
   "execution_count": null,
   "id": "ea224c94",
   "metadata": {},
   "outputs": [],
   "source": [
    "#| export\n",
    "_block_tags = {'div', 'p', 'ul', 'ol', 'li', 'table', 'thead', 'tbody', 'tfoot',\n",
    "               'html', 'head', 'body', 'meta', 'title', '!doctype', 'input', 'script', 'link', 'style',\n",
    "               'tr', 'th', 'td', 'section', 'article', 'nav', 'aside', 'header',\n",
    "               'footer', 'h1', 'h2', 'h3', 'h4', 'h5', 'h6', 'blockquote'}\n",
    "_inline_tags = {'a', 'span', 'b', 'i', 'u', 'em', 'strong', 'img', 'br', 'small',\n",
    "                'big', 'sub', 'sup', 'label', 'input', 'select', 'option'}\n",
    "\n",
    "def _is_whitespace_significant(elm):\n",
    "    return elm.tag in {'pre', 'code', 'textarea', 'script'} or elm.get('contenteditable') == 'true'"
   ]
  },
  {
   "cell_type": "code",
   "execution_count": null,
   "id": "a1ed9c01",
   "metadata": {},
   "outputs": [],
   "source": [
    "#| export\n",
    "def _to_xml(elm, lvl=0, indent=True, do_escape=True):\n",
    "    \"Convert `FT` element tree into an XML string\"\n",
    "    esc_fn = _escape if do_escape else _noescape\n",
    "    if elm is None: return ''\n",
    "    if hasattr(elm, '__ft__'): elm = elm.__ft__()\n",
    "    if isinstance(elm, tuple):\n",
    "        return ''.join(_to_xml(o, lvl=lvl, indent=indent, do_escape=do_escape) for o in elm)\n",
    "    if isinstance(elm, bytes): return elm.decode('utf-8')\n",
    "    if not isinstance(elm, FT): return f'{esc_fn(elm)}'\n",
    "\n",
    "    tag, cs, attrs = elm.list\n",
    "    is_void = getattr(elm, 'void_', False)\n",
    "    is_block = tag in _block_tags\n",
    "    if _is_whitespace_significant(elm): indent = False\n",
    "\n",
    "    sp,nl = (' ' * lvl,'\\n') if indent and is_block else ('','')\n",
    "    nl_end = nl\n",
    "\n",
    "    stag = tag\n",
    "    if attrs:\n",
    "        sattrs = ' '.join(_to_attr(k, v) for k, v in attrs.items() if v not in (False, None, '') and (k=='_' or k[-1]!='_'))\n",
    "        if sattrs: stag += f' {sattrs}'\n",
    "\n",
    "    cltag = '' if is_void else f'</{tag}>'\n",
    "\n",
    "    if not cs:\n",
    "        if is_void: return f'{sp}<{stag}>{nl_end}'\n",
    "        else: return f'{sp}<{stag}>{cltag}{nl_end}'\n",
    "    if len(cs) == 1 and not isinstance(cs[0], (list, tuple, FT)) and not hasattr(cs[0], '__ft__'):\n",
    "        content = esc_fn(cs[0])\n",
    "        return f'{sp}<{stag}>{content}{cltag}{nl_end}'\n",
    "\n",
    "    res = f'{sp}<{stag}>{nl}'\n",
    "    for c in cs:\n",
    "        res += _to_xml(c, lvl=lvl+2 if indent else 0, indent=indent, do_escape=do_escape)\n",
    "    if not is_void: res += f'{sp}{cltag}{nl_end}'\n",
    "    return Safe(res)"
   ]
  },
  {
   "cell_type": "code",
   "execution_count": null,
   "id": "dd054392",
   "metadata": {},
   "outputs": [],
   "source": [
    "#| export\n",
    "def to_xml(elm, lvl=0, indent=True, do_escape=True):\n",
    "    \"Convert `ft` element tree into an XML string\"\n",
    "    return Safe(_to_xml(elm, lvl, indent, do_escape=do_escape))\n",
    "\n",
    "FT.__html__ = to_xml"
   ]
  },
  {
   "cell_type": "code",
   "execution_count": null,
   "id": "c2a921a2",
   "metadata": {},
   "outputs": [],
   "source": [
    "#| hide\n",
    "test_eq(to_xml(Div(\"Hello\")), '<div>Hello</div>\\n')\n",
    "test_eq(to_xml(P(\"Text\", Class=\"test\")), '<p class=\"test\">Text</p>\\n')\n",
    "test_eq(to_xml(Div(P(\"Nested\"))), '<div>\\n  <p>Nested</p>\\n</div>\\n')\n",
    "test_eq(to_xml(Pre(\"  Whitespace\\n  Significant  \")), '<pre>  Whitespace\\n  Significant  </pre>')\n",
    "test_eq(to_xml(Img(src=\"image.jpg\")), '<img src=\"image.jpg\">')\n",
    "test_eq(to_xml(Div(\"Text\", contenteditable=\"true\")), '<div contenteditable=\"true\">Text</div>')\n",
    "test_eq(to_xml(None), '')\n",
    "test_eq(to_xml((\"Text\", P(\"Paragraph\"))), 'Text<p>Paragraph</p>\\n')\n",
    "test_eq(to_xml(b\"Bytes\"), 'Bytes')\n",
    "test_eq(to_xml(Div(P(\"Text\"), B(\"Bold\")), indent=False), '<div><p>Text</p><b>Bold</b></div>')\n",
    "test_eq(to_xml(Div(\"<script>alert('XSS')</script>\"), do_escape=True),\n",
    "        '<div>&lt;script&gt;alert(&#x27;XSS&#x27;)&lt;/script&gt;</div>\\n')\n",
    "test_eq(to_xml(Div(\"<script>alert('XSS')</script>\"), do_escape=False),\n",
    "        \"<div><script>alert('XSS')</script></div>\\n\")\n",
    "test_eq(to_xml(Div(foo=False), indent=False), '<div></div>')"
   ]
  },
  {
   "cell_type": "code",
   "execution_count": null,
   "id": "eef16b38",
   "metadata": {},
   "outputs": [],
   "source": [
    "#| hide\n",
    "test_eq(to_xml(B('Bold Text')), '<b>Bold Text</b>')\n",
    "test_eq(to_xml(Div(P('Paragraph Text'))), '<div>\\n  <p>Paragraph Text</p>\\n</div>\\n')\n",
    "test_eq(to_xml(Pre('   Preformatted\\n   Text')), '<pre>   Preformatted\\n   Text</pre>')\n",
    "editable_div = Div('Editable Content', contenteditable='true')\n",
    "test_eq(to_xml(editable_div), '<div contenteditable=\"true\">Editable Content</div>')\n",
    "test_eq(to_xml(Div(Span('Inline Text'), P('Paragraph'))),\n",
    "        '<div>\\n<span>Inline Text</span>  <p>Paragraph</p>\\n</div>\\n')\n",
    "test_eq(to_xml(Br()), '<br>')\n",
    "test_eq(to_xml(P(None)), '<p></p>\\n')\n",
    "test_eq(to_xml(Div()), '<div></div>\\n')\n",
    "test_eq(to_xml(Input(type='text', disabled=True)), '<input type=\"text\" disabled>\\n')\n",
    "special_attr_tag = Div(id='main\"div', data_info=\"Some 'info'\")\n",
    "expected_special_attr = \"<div id='main\\\"div' data-info=\\\"Some 'info'\\\"></div>\\n\"\n",
    "test_eq(to_xml(special_attr_tag), expected_special_attr)"
   ]
  },
  {
   "cell_type": "code",
   "execution_count": null,
   "id": "d3d23c48",
   "metadata": {},
   "outputs": [
    {
     "name": "stdout",
     "output_type": "stream",
     "text": [
      "<!doctype html>\n",
      "<html>\n",
      "  <head>\n",
      "    <title>Some page</title>\n",
      "  </head>\n",
      "  <body>\n",
      "    <div class=\"myclass another\" style=\"padding:1; margin:2\">\n",
      "Some text\n",
      "another line      <input name=\"jph's\">\n",
      "<img src=\"filename\" data=\"1\">    </div>\n",
      "  </body>\n",
      "</html>\n",
      "\n"
     ]
    }
   ],
   "source": [
    "h = to_xml(samp, do_escape=False)\n",
    "print(h)"
   ]
  },
  {
   "cell_type": "code",
   "execution_count": null,
   "id": "85a16341",
   "metadata": {},
   "outputs": [],
   "source": [
    "class PageTitle:\n",
    "    def __ft__(self): return H1(\"Hello\")\n",
    "\n",
    "class HomePage:\n",
    "    def __ft__(self): return Div(PageTitle(), Div('hello'))\n",
    "\n",
    "h = to_xml(Div(HomePage()))\n",
    "expected_output = \"\"\"<div>\n",
    "  <div>\n",
    "    <h1>Hello</h1>\n",
    "    <div>hello</div>\n",
    "  </div>\n",
    "</div>\n",
    "\"\"\"\n",
    "assert h == expected_output"
   ]
  },
  {
   "cell_type": "code",
   "execution_count": null,
   "id": "61d63a79",
   "metadata": {},
   "outputs": [
    {
     "name": "stdout",
     "output_type": "stream",
     "text": [
      "<div>\n",
      "  <div>\n",
      "    <h1>Hello</h1>\n",
      "    <div>hello</div>\n",
      "  </div>\n",
      "</div>\n",
      "\n"
     ]
    }
   ],
   "source": [
    "print(h)"
   ]
  },
  {
   "cell_type": "code",
   "execution_count": null,
   "id": "51e58821",
   "metadata": {},
   "outputs": [
    {
     "name": "stdout",
     "output_type": "stream",
     "text": [
      "<!doctype html><html><head><title>Some page</title></head><body><div class=\"myclass another\" style=\"padding:1; margin:2\">Some text\n",
      "another line<input name=\"jph's\"><img src=\"filename\" data=\"1\"></div></body></html>\n"
     ]
    }
   ],
   "source": [
    "h = to_xml(samp, indent=False)\n",
    "print(h)"
   ]
  },
  {
   "cell_type": "markdown",
   "id": "4713bd8d",
   "metadata": {},
   "source": [
    "Interoperability both directions with Django and Jinja using the [__html__() protocol](https://jinja.palletsprojects.com/en/3.1.x/templates/#jinja-filters.escape):"
   ]
  },
  {
   "cell_type": "code",
   "execution_count": null,
   "id": "798ae1d2",
   "metadata": {},
   "outputs": [
    {
     "name": "stdout",
     "output_type": "stream",
     "text": [
      "<div><b>Hello from Django</b></div>\n",
      "\n",
      "<div>\n",
      "  <p>Hello from fastcore &lt;3</p>\n",
      "</div>\n",
      "\n"
     ]
    }
   ],
   "source": [
    "def _esc(s): return s.__html__() if hasattr(s, '__html__') else Safe(escape(s))\n",
    "\n",
    "r = Safe('<b>Hello from Django</b>')\n",
    "print(to_xml(Div(r)))\n",
    "print(_esc(Div(P('Hello from fastcore <3'))))"
   ]
  },
  {
   "cell_type": "markdown",
   "id": "5ad30d7c",
   "metadata": {},
   "source": [
    "## Display"
   ]
  },
  {
   "cell_type": "code",
   "execution_count": null,
   "id": "5f0e91e0",
   "metadata": {},
   "outputs": [],
   "source": [
    "#| export\n",
    "def highlight(s, lang='html'):\n",
    "    \"Markdown to syntax-highlight `s` in language `lang`\"\n",
    "    return f'```{lang}\\n{to_xml(s)}\\n```'"
   ]
  },
  {
   "cell_type": "code",
   "execution_count": null,
   "id": "39fab735",
   "metadata": {},
   "outputs": [],
   "source": [
    "#| export\n",
    "def showtags(s):\n",
    "    return f\"\"\"<code><pre>\n",
    "{escape(to_xml(s))}\n",
    "</code></pre>\"\"\"\n",
    "\n",
    "FT._repr_markdown_ = highlight"
   ]
  },
  {
   "cell_type": "markdown",
   "id": "32b75e87",
   "metadata": {},
   "source": [
    "You can also reorder the children to come *after* the attrs, if you use this alternative syntax for `FT` where the children are in a second pair of `()` (behind the scenes this is because `FT` implements `__call__` to add children)."
   ]
  },
  {
   "cell_type": "code",
   "execution_count": null,
   "id": "16c9bd71",
   "metadata": {},
   "outputs": [
    {
     "data": {
      "text/markdown": [
       "```html\n",
       "<body class=\"myclass\">\n",
       "  <div style=\"padding:3px\">\n",
       "Some text 1&lt;2<i spurious>in italics</i>    <input name=\"me\">\n",
       "<img src=\"filename\" data=\"1\">  </div>\n",
       "</body>\n",
       "\n",
       "```"
      ],
      "text/plain": [
       "body((div(('Some text 1<2', i(('in italics',),{'spurious': True}), input((),{'name': 'me'}), img((),{'src': 'filename', 'data': 1})),{'style': 'padding:3px'}),),{'class': 'myclass'})"
      ]
     },
     "execution_count": null,
     "metadata": {},
     "output_type": "execute_result"
    }
   ],
   "source": [
    "Body(klass='myclass')(\n",
    "    Div(style='padding:3px')(\n",
    "        'Some text 1<2',\n",
    "        I(spurious=True)('in italics'),\n",
    "        Input(name='me'),\n",
    "        Img(src=\"filename\", data=1)\n",
    "    )\n",
    ")"
   ]
  },
  {
   "cell_type": "code",
   "execution_count": null,
   "id": "1d8a28b1",
   "metadata": {},
   "outputs": [],
   "source": [
    "#| export\n",
    "def __getattr__(tag):\n",
    "    if tag.startswith('_') or tag[0].islower(): raise AttributeError\n",
    "    tag = _fix_k(tag)\n",
    "    def _f(*c, target_id=None, **kwargs): return ft(tag, *c, target_id=target_id, **kwargs)\n",
    "    return _f"
   ]
  },
  {
   "cell_type": "markdown",
   "id": "df973d4e",
   "metadata": {},
   "source": [
    "# Export -"
   ]
  },
  {
   "cell_type": "code",
   "execution_count": null,
   "id": "ad32b076",
   "metadata": {},
   "outputs": [],
   "source": [
    "#|hide\n",
    "import nbdev; nbdev.nbdev_export()"
   ]
  },
  {
   "cell_type": "code",
   "execution_count": null,
   "id": "84fe290c",
   "metadata": {},
   "outputs": [],
   "source": []
  }
 ],
 "metadata": {
  "kernelspec": {
   "display_name": "python3",
   "language": "python",
   "name": "python3"
  }
 },
 "nbformat": 4,
 "nbformat_minor": 5
}
